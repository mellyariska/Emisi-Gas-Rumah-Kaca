 # EMISI GAS RUMAH KACA #
import matplotlib.pyplot as plt
import numpy as np
from ipywidgets import interactive, IntSlider, FloatSlider
import ipywidgets as widgets

def greenhouse_gas_simulation(initial_emission_rate, decay_rate, time):
    """
    Simulate greenhouse gas emissions over time.

    Parameters:
    - initial_emission_rate: Initial emission rate (tons/year)
    - decay_rate: Rate of emission decay (% per year)
    - time: Duration of simulation (years)
    """
    # Initialize variables
    time_values = np.arange(0, time + 1)
    emission_values = []

    # Calculate emissions for each year
    for t in time_values:
        emission = initial_emission_rate * np.exp(-decay_rate * t)
        emission_values.append(emission)

    # Plot the results
    plt.figure(figsize=(10, 6))
    plt.plot(time_values, emission_values, marker='o', linestyle='-')
    plt.xlabel('Time (years)')
    plt.ylabel('Emission Rate (tons/year)')
    plt.title('Greenhouse Gas Emission Simulation')
    plt.grid(True)
    plt.show()

    # Print total emissions  #This line was indented too far
    total_emission = sum(emission_values)
    print(f'Total emissions over {time} years: {total_emission:.2f} tons')
# Create sliders for interactive parameters
initial_emission_slider = FloatSlider(min=100, max=10000, step=100, value=2000, description='Initial Emission Rate (tons/year)')
decay_rate_slider = FloatSlider(min=0.01, max=1, step=0.01, value=0.1, description='Decay Rate (% per year)')
time_slider = IntSlider(min=1, max=50, step=1, value=10, description='Duration (years)')

# Create interactive plot
interactive_plot = interactive(greenhouse_gas_simulation,
                               initial_emission_rate=initial_emission_slider,
                               decay_rate=decay_rate_slider,
                               time=time_slider)

# Display interactive plot
display(interactive_plot)
